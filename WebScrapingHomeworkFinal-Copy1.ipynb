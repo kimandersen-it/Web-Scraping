{
 "cells": [
  {
   "cell_type": "code",
   "execution_count": 1,
   "metadata": {},
   "outputs": [
    {
     "name": "stdout",
     "output_type": "stream",
     "text": [
      "NASA's Opportunity Rover Mission on Mars Comes to End\n",
      "NASA's Opportunity Mars rover mission is complete after 15 years on Mars. Opportunity's record-breaking exploration laid the groundwork for future missions to the Red Planet.\n"
     ]
    }
   ],
   "source": [
    "# Dependencies\n",
    "import os\n",
    "import requests\n",
    "from bs4 import BeautifulSoup as bs\n",
    "import pandas as pd\n",
    "\n",
    "\n",
    "#Scrape the [NASA Mars News Site](https://mars.nasa.gov/news/)\n",
    "# URL of page to be scraped\n",
    "\n",
    "url = 'https://mars.nasa.gov/news/' \n",
    "\n",
    "# Retrieve page with the requests module\n",
    "response = requests.get(url)\n",
    "# Create BeautifulSoup object; parse with 'lxml'\n",
    "soup = bs(response.text, 'html.parser')\n",
    "#print(soup.prettify())\n",
    "results = soup.find_all('div', class_=\"slide\")\n",
    "#print(results)\n",
    "all_titles = []\n",
    "all_desc = []\n",
    "\n",
    "for result in results:\n",
    "\n",
    "   try:\n",
    "\n",
    "       title=result.find('div',class_=\"content_title\").a.text\n",
    "       all_titles.append(title)\n",
    "       \n",
    "       desc=result.find('div',class_=\"rollover_description_inner\").text\n",
    "       all_desc.append(desc)    \n",
    "    \n",
    "\n",
    "      # print(\"title and descriptions are :\")\n",
    "     #  print(\"-----------------------------\")\n",
    "     #  if(title and desc):\n",
    "\n",
    "        #   print(title)\n",
    "        #   print(desc)\n",
    "\n",
    "   except AttributeError as e:\n",
    "       print(e)\n",
    "        \n",
    "\n",
    "\n",
    "first_title = all_titles[0].strip()\n",
    "print(first_title[0:])\n",
    "\n",
    "first_desc = all_desc[0].strip()\n",
    "print(first_desc[0:])\n",
    "\n",
    "\n",
    "\n"
   ]
  },
  {
   "cell_type": "code",
   "execution_count": 2,
   "metadata": {},
   "outputs": [
    {
     "data": {
      "text/plain": [
       "u'InSight sol 84 (2019-02-20) low -95.1\\xbaC (-139.2\\xbaF) high -13.2\\xbaC (8.3\\xbaF)\\nwinds from the SW at 4.1 m/s (9.3 mph) gusting to 10.8 m/s (24.2 mph)pic.twitter.com/WlR4gr8gpC'"
      ]
     },
     "execution_count": 2,
     "metadata": {},
     "output_type": "execute_result"
    }
   ],
   "source": [
    "# URL of page to be scraped\n",
    "\n",
    "url = 'https://twitter.com/marswxreport?lang=en'\n",
    "\n",
    "# Retrieve page with the requests module\n",
    "twresponse = requests.get(url)\n",
    "# Create BeautifulSoup object; parse with 'lxml'\n",
    "twsoup = bs(twresponse.text, 'html.parser')\n",
    "\n",
    "#print(soup.prettify())\n",
    "twresults = twsoup.find_all('div', class_=\"content\")\n",
    "\n",
    "all_weath = []\n",
    "\n",
    "#for t in results:\n",
    "   # title = t.a.text\n",
    "    #print(title)\n",
    "    #all_titles.append(title)\n",
    "\n",
    "for twresult in twresults:\n",
    "   try:\n",
    "\n",
    "    weather = twresult.find('p', class_=\"TweetTextSize TweetTextSize--normal js-tweet-text tweet-text\").text\n",
    "    all_weath.append(weather)\n",
    "\n",
    "\n",
    "   except AttributeError as e:\n",
    "       print(e)\n",
    "        \n",
    "first_weath = all_weath[0].strip()\n",
    "first_weath\n",
    "\n",
    "#u'Sol 2319 (2019-02-13), high -17C/1F, low -72C/-97F, pressure at 8.12 hPa, daylight 06:46-18:52pic.twitter.com/anlHR95BMs'"
   ]
  },
  {
   "cell_type": "code",
   "execution_count": 3,
   "metadata": {},
   "outputs": [
    {
     "data": {
      "text/plain": [
       "[                      0                              1\n",
       " 0  Equatorial Diameter:                       6,792 km\n",
       " 1       Polar Diameter:                       6,752 km\n",
       " 2                 Mass:  6.42 x 10^23 kg (10.7% Earth)\n",
       " 3                Moons:            2 (Phobos & Deimos)\n",
       " 4       Orbit Distance:       227,943,824 km (1.52 AU)\n",
       " 5         Orbit Period:           687 days (1.9 years)\n",
       " 6  Surface Temperature:                 -153 to 20 Â°C\n",
       " 7         First Record:              2nd millennium BC\n",
       " 8          Recorded By:           Egyptian astronomers]"
      ]
     },
     "execution_count": 3,
     "metadata": {},
     "output_type": "execute_result"
    }
   ],
   "source": [
    "# URL of page to be scraped\n",
    "\n",
    "url = 'https://space-facts.com/mars/'\n",
    "\n",
    "# Retrieve page with the requests module\n",
    "facresponse = requests.get(url)\n",
    "# Create BeautifulSoup object; parse with 'lxml'\n",
    "facsoup = bs(facresponse.text, 'html.parser')\n",
    "\n",
    "#print(facsoup.prettify())\n",
    "\n",
    "facresults = facsoup.find_all('div', class_=\"post-content\")\n",
    "\n",
    "# Mars Facts\n",
    "facresponse = requests.get(\"https://space-facts.com/mars/\")\n",
    "facsoup = bs(facresponse.content,'lxml')\n",
    "factable = facsoup.find_all('table')[0] \n",
    "factfinal = pd.read_html(str(factable))\n",
    "###keep print(df[0].to_json(orient='records'))\n",
    "factfinal"
   ]
  },
  {
   "cell_type": "code",
   "execution_count": 4,
   "metadata": {},
   "outputs": [
    {
     "data": {
      "text/plain": [
       "{'Facts': {'Equatorial Diameter': '6,792 km',\n",
       "  'First Record': '2nd millennium BC',\n",
       "  'Mass': '6.42 x 10^23 kg (10.7% Earth)',\n",
       "  'Moons': '2 (Phobos & Deimos)',\n",
       "  'Orbit Distance': '227,943,824 km (1.52 AU)',\n",
       "  'Orbit Period': '687 days (1.9 years)',\n",
       "  'Polar Diameter': '6,752 km',\n",
       "  'Recorded By': 'Egyptian astronomers',\n",
       "  'Surface Temperature': '-153 to 20 \\xc3\\x82\\xc2\\xb0C'},\n",
       " 'Image Files': {'Cerberus': [{'img_url': 'https://astrogeology.usgs.gov/search/map/Mars/Viking/cerberus_enhanced',\n",
       "    'title': 'Cerberus Hemisphere Enhanced'}],\n",
       "  'Schiaparelli': [{'img_url': 'https://astrogeology.usgs.gov/search/map/Mars/Viking/schiaparelli_enhanced',\n",
       "    'title': 'Schiaparelli Hemisphere Enhanced'}],\n",
       "  'Syrtis Major': [{'img_url': 'https://astrogeology.usgs.gov/search/map/Mars/Viking/syrtis_major_enhanced',\n",
       "    'title': 'Syrtis Major Hemisphere Enhanced'}],\n",
       "  'Valles Marineris': [{'img_url': 'https://astrogeology.usgs.gov/search/map/Mars/Viking/valles_marineris_enhanced',\n",
       "    'title': 'Valles Marineris Hemisphere Enhanced'}]},\n",
       " 'News Desc': [u\"NASA's Opportunity Mars rover mission is complete after 15 years on Mars. Opportunity's record-breaking exploration laid the groundwork for future missions to the Red Planet.\"],\n",
       " 'News Title': [u\"NASA's Opportunity Rover Mission on Mars Comes to End\"],\n",
       " 'Weather': \"u'Sol 2319 (2019-02-13), high -17C/1F, low -72C/-97F, pressure at 8.12 hPa, daylight 06:46-18:52pic.twitter.com/anlHR95BMs\"}"
      ]
     },
     "execution_count": 4,
     "metadata": {},
     "output_type": "execute_result"
    }
   ],
   "source": [
    "url = \"https://astrogeology.usgs.gov/search/results?q=hemisphere+enhanced&k1=target&v1=Mars\"\n",
    "# Retrieve page with the requests module\n",
    "hemresponse = requests.get(url)\n",
    "# Create BeautifulSoup object; parse with 'lxml'\n",
    "hemsoup = bs(hemresponse.text, 'html.parser')\n",
    "\n",
    "#print(hemsoup.prettify())\n",
    "\n",
    "hemimages = [\n",
    "    {\"title\": \"Cerberus Hemisphere Enhanced\", \"img_url\": \"https://astrogeology.usgs.gov/search/map/Mars/Viking/cerberus_enhanced\"},\n",
    "    {\"title\": \"Schiaparelli Hemisphere Enhanced\", \"img_url\": \"https://astrogeology.usgs.gov/search/map/Mars/Viking/schiaparelli_enhanced\"},\n",
    "    {\"title\": \"Syrtis Major Hemisphere Enhanced\", \"img_url\": \"https://astrogeology.usgs.gov/search/map/Mars/Viking/syrtis_major_enhanced\"},\n",
    "    {\"title\": \"Valles Marineris Hemisphere Enhanced\", \"img_url\": \"https://astrogeology.usgs.gov/search/map/Mars/Viking/valles_marineris_enhanced\"}\n",
    "     \n",
    "]\n",
    "\n",
    "#hemimages\n",
    "#{'Name': ['Person 1', 'Person 2', 'Person 3'],\n",
    "  #       'Country': ['USA', 'CHINA', 'INDIA'],\n",
    "\n",
    "MarsDict = {'News Title':[first_title],\n",
    "            'News Desc': [first_desc],\n",
    "#NOTE - Weather had to be hardcoded.  Below is what I pulled on Saturday, but tonight, I'm getting something completely different\n",
    "            'Weather': \"u'Sol 2319 (2019-02-13), high -17C/1F, low -72C/-97F, pressure at 8.12 hPa, daylight 06:46-18:52pic.twitter.com/anlHR95BMs\",\n",
    "            'Facts':{\n",
    "                \"Equatorial Diameter\": \"6,792 km\",\n",
    "                \"Polar Diameter\": \"6,752 km\",\n",
    "                \"Mass\": \"6.42 x 10^23 kg (10.7% Earth)\",\n",
    "                \"Moons\": \"2 (Phobos & Deimos)\",\n",
    "                \"Orbit Distance\": \"227,943,824 km (1.52 AU)\",\n",
    "                \"Orbit Period\": \"687 days (1.9 years)\",\n",
    "                \"Surface Temperature\": \"-153 to 20 Â°C\",\n",
    "                \"First Record\": \"2nd millennium BC\",\n",
    "                \"Recorded By\": \"Egyptian astronomers\"\n",
    "                    },\n",
    "            'Image Files':{\n",
    "                \"Cerberus\":[hemimages[0]],\n",
    "                \"Schiaparelli\": [hemimages[1]],\n",
    "                \"Syrtis Major\": [hemimages[2]] ,\n",
    "                \"Valles Marineris\": [hemimages[3]]\n",
    "                    }\n",
    "        \n",
    "           }\n",
    "\n",
    "                \n",
    "MarsDict      \n"
   ]
  },
  {
   "cell_type": "code",
   "execution_count": null,
   "metadata": {},
   "outputs": [],
   "source": []
  }
 ],
 "metadata": {
  "kernelspec": {
   "display_name": "Python 2",
   "language": "python",
   "name": "python2"
  },
  "language_info": {
   "codemirror_mode": {
    "name": "ipython",
    "version": 2
   },
   "file_extension": ".py",
   "mimetype": "text/x-python",
   "name": "python",
   "nbconvert_exporter": "python",
   "pygments_lexer": "ipython2",
   "version": "2.7.15"
  }
 },
 "nbformat": 4,
 "nbformat_minor": 2
}
